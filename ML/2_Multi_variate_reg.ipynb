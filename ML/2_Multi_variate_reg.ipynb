{
 "cells": [
  {
   "cell_type": "markdown",
   "metadata": {},
   "source": [
    "### Multiple Linear Regression"
   ]
  },
  {
   "cell_type": "markdown",
   "metadata": {},
   "source": [
    "### 1.1 Data set"
   ]
  },
  {
   "cell_type": "markdown",
   "metadata": {},
   "source": [
    "자동차의 여러 기술적인 사양들을 고려하여 연비 (auto miles per gallon(MPG))를 예측하기"
   ]
  },
  {
   "cell_type": "code",
   "execution_count": 2,
   "metadata": {},
   "outputs": [],
   "source": [
    "import pandas\n",
    "import seaborn # 데이터 시각화 패키지\n",
    "seaborn.set()"
   ]
  },
  {
   "cell_type": "code",
   "execution_count": 1,
   "metadata": {},
   "outputs": [
    {
     "data": {
      "text/plain": [
       "('auto_mpg.csv', <http.client.HTTPMessage at 0x7fe3501b6820>)"
      ]
     },
     "execution_count": 1,
     "metadata": {},
     "output_type": "execute_result"
    }
   ],
   "source": [
    "from urllib.request import urlretrieve\n",
    "URL = 'https://go.gwu.edu/engcomp6data3'\n",
    "urlretrieve(URL, 'auto_mpg.csv')\n",
    "\n",
    "\n",
    "# auto miles per gallon(MPG) dataset"
   ]
  },
  {
   "cell_type": "code",
   "execution_count": 5,
   "metadata": {},
   "outputs": [
    {
     "data": {
      "text/html": [
       "<div>\n",
       "<style scoped>\n",
       "    .dataframe tbody tr th:only-of-type {\n",
       "        vertical-align: middle;\n",
       "    }\n",
       "\n",
       "    .dataframe tbody tr th {\n",
       "        vertical-align: top;\n",
       "    }\n",
       "\n",
       "    .dataframe thead th {\n",
       "        text-align: right;\n",
       "    }\n",
       "</style>\n",
       "<table border=\"1\" class=\"dataframe\">\n",
       "  <thead>\n",
       "    <tr style=\"text-align: right;\">\n",
       "      <th></th>\n",
       "      <th>mpg</th>\n",
       "      <th>cylinders</th>\n",
       "      <th>displacement</th>\n",
       "      <th>horsepower</th>\n",
       "      <th>weight</th>\n",
       "      <th>acceleration</th>\n",
       "      <th>model year</th>\n",
       "      <th>origin</th>\n",
       "      <th>car name</th>\n",
       "    </tr>\n",
       "  </thead>\n",
       "  <tbody>\n",
       "    <tr>\n",
       "      <th>0</th>\n",
       "      <td>18.0</td>\n",
       "      <td>8</td>\n",
       "      <td>307.0</td>\n",
       "      <td>130.0</td>\n",
       "      <td>3504.0</td>\n",
       "      <td>12.0</td>\n",
       "      <td>70</td>\n",
       "      <td>1</td>\n",
       "      <td>chevrolet chevelle malibu</td>\n",
       "    </tr>\n",
       "    <tr>\n",
       "      <th>1</th>\n",
       "      <td>15.0</td>\n",
       "      <td>8</td>\n",
       "      <td>350.0</td>\n",
       "      <td>165.0</td>\n",
       "      <td>3693.0</td>\n",
       "      <td>11.5</td>\n",
       "      <td>70</td>\n",
       "      <td>1</td>\n",
       "      <td>buick skylark 320</td>\n",
       "    </tr>\n",
       "    <tr>\n",
       "      <th>2</th>\n",
       "      <td>18.0</td>\n",
       "      <td>8</td>\n",
       "      <td>318.0</td>\n",
       "      <td>150.0</td>\n",
       "      <td>3436.0</td>\n",
       "      <td>11.0</td>\n",
       "      <td>70</td>\n",
       "      <td>1</td>\n",
       "      <td>plymouth satellite</td>\n",
       "    </tr>\n",
       "    <tr>\n",
       "      <th>3</th>\n",
       "      <td>16.0</td>\n",
       "      <td>8</td>\n",
       "      <td>304.0</td>\n",
       "      <td>150.0</td>\n",
       "      <td>3433.0</td>\n",
       "      <td>12.0</td>\n",
       "      <td>70</td>\n",
       "      <td>1</td>\n",
       "      <td>amc rebel sst</td>\n",
       "    </tr>\n",
       "    <tr>\n",
       "      <th>4</th>\n",
       "      <td>17.0</td>\n",
       "      <td>8</td>\n",
       "      <td>302.0</td>\n",
       "      <td>140.0</td>\n",
       "      <td>3449.0</td>\n",
       "      <td>10.5</td>\n",
       "      <td>70</td>\n",
       "      <td>1</td>\n",
       "      <td>ford torino</td>\n",
       "    </tr>\n",
       "  </tbody>\n",
       "</table>\n",
       "</div>"
      ],
      "text/plain": [
       "    mpg  cylinders  displacement  horsepower  weight  acceleration  \\\n",
       "0  18.0          8         307.0       130.0  3504.0          12.0   \n",
       "1  15.0          8         350.0       165.0  3693.0          11.5   \n",
       "2  18.0          8         318.0       150.0  3436.0          11.0   \n",
       "3  16.0          8         304.0       150.0  3433.0          12.0   \n",
       "4  17.0          8         302.0       140.0  3449.0          10.5   \n",
       "\n",
       "   model year  origin                   car name  \n",
       "0          70       1  chevrolet chevelle malibu  \n",
       "1          70       1          buick skylark 320  \n",
       "2          70       1         plymouth satellite  \n",
       "3          70       1              amc rebel sst  \n",
       "4          70       1                ford torino  "
      ]
     },
     "execution_count": 5,
     "metadata": {},
     "output_type": "execute_result"
    }
   ],
   "source": [
    "mpg_data = pandas.read_csv('auto_mpg.csv') # pandas로 csv 파일 읽어오기\n",
    "mpg_data.head() # head는 str이런 자료형엔 못쓰고 DataFrame일 때 쓸 수 있음"
   ]
  },
  {
   "cell_type": "code",
   "execution_count": 7,
   "metadata": {},
   "outputs": [
    {
     "data": {
      "text/plain": [
       "pandas.core.frame.DataFrame"
      ]
     },
     "execution_count": 7,
     "metadata": {},
     "output_type": "execute_result"
    }
   ],
   "source": [
    "type(mpg_data)\n",
    "# DataFrame은 시리즈 여러개가 합쳐진 자료형\n",
    "# 즉 열 하나만 가져오면 그건 series가 됨"
   ]
  },
  {
   "cell_type": "code",
   "execution_count": 6,
   "metadata": {},
   "outputs": [
    {
     "name": "stdout",
     "output_type": "stream",
     "text": [
      "<class 'pandas.core.frame.DataFrame'>\n",
      "RangeIndex: 392 entries, 0 to 391\n",
      "Data columns (total 9 columns):\n",
      " #   Column        Non-Null Count  Dtype  \n",
      "---  ------        --------------  -----  \n",
      " 0   mpg           392 non-null    float64\n",
      " 1   cylinders     392 non-null    int64  \n",
      " 2   displacement  392 non-null    float64\n",
      " 3   horsepower    392 non-null    float64\n",
      " 4   weight        392 non-null    float64\n",
      " 5   acceleration  392 non-null    float64\n",
      " 6   model year    392 non-null    int64  \n",
      " 7   origin        392 non-null    int64  \n",
      " 8   car name      392 non-null    object \n",
      "dtypes: float64(5), int64(3), object(1)\n",
      "memory usage: 27.7+ KB\n"
     ]
    }
   ],
   "source": [
    "mpg_data.info() # 이것도 str안되고 DataFrame에만 쓰일 수 있음\n",
    "\n",
    "# m =  391"
   ]
  },
  {
   "cell_type": "markdown",
   "metadata": {},
   "source": [
    "392개의 데이터 9개의 feature variables  \n",
    "car name, origin (차가 만들어진 도시 categorical함) 이거 두개는 제외하고 생각"
   ]
  },
  {
   "cell_type": "code",
   "execution_count": 8,
   "metadata": {},
   "outputs": [],
   "source": [
    "# mpg_data의 컬럼들을 용도에 따라 y_col, x_cols라고 이름 붙여주기...?\n",
    "y_col = 'mpg'\n",
    "x_cols = mpg_data.columns.drop(['car name', 'origin', 'mpg']) #df.drop['B'C]"
   ]
  },
  {
   "cell_type": "code",
   "execution_count": 9,
   "metadata": {},
   "outputs": [
    {
     "data": {
      "text/plain": [
       "Index(['cylinders', 'displacement', 'horsepower', 'weight', 'acceleration',\n",
       "       'model year'],\n",
       "      dtype='object')"
      ]
     },
     "execution_count": 9,
     "metadata": {},
     "output_type": "execute_result"
    }
   ],
   "source": [
    "x_cols"
   ]
  },
  {
   "cell_type": "code",
   "execution_count": 19,
   "metadata": {},
   "outputs": [
    {
     "data": {
      "text/plain": [
       "str"
      ]
     },
     "execution_count": 19,
     "metadata": {},
     "output_type": "execute_result"
    }
   ],
   "source": [
    "type(y_col)"
   ]
  },
  {
   "cell_type": "code",
   "execution_count": 20,
   "metadata": {},
   "outputs": [
    {
     "data": {
      "text/plain": [
       "'mpg'"
      ]
     },
     "execution_count": 20,
     "metadata": {},
     "output_type": "execute_result"
    }
   ],
   "source": [
    "y_col\n",
    "# mpg_data(DF)의 컬럼'이름을(인덱스)'을 y_col라는 변수에 할당해준 듯"
   ]
  },
  {
   "cell_type": "markdown",
   "metadata": {},
   "source": [
    "### 1.2 Data exploration"
   ]
  },
  {
   "cell_type": "markdown",
   "metadata": {},
   "source": [
    "각 $x$ (자동차의 속성)들과 연비와의 상관관계를 개별적으로 알아보기  \n",
    "그래프 모양을 보고 linear model을 써도 되는지 알아볼 수 있다 $->$ 시각화 해서 보는것이 직관적   \n",
    "여기에서 데이터 시각화 패키지 $seaborn$이 쓰인다"
   ]
  },
  {
   "cell_type": "code",
   "execution_count": 55,
   "metadata": {},
   "outputs": [
    {
     "data": {
      "text/plain": [
       "<seaborn.axisgrid.PairGrid at 0x7fe30ae82a30>"
      ]
     },
     "execution_count": 55,
     "metadata": {},
     "output_type": "execute_result"
    },
    {
     "data": {
      "image/png": "[encoded data removed]",
      "text/plain": [
       "<Figure size 2160x360 with 6 Axes>"
      ]
     },
     "metadata": {},
     "output_type": "display_data"
    }
   ],
   "source": [
    "seaborn.pairplot(data=mpg_data, height=5, aspect=1, x_vars=x_cols, y_vars=y_col)\n",
    "# 왜 cylinders 데이터 사라졌냐"
   ]
  },
  {
   "cell_type": "markdown",
   "metadata": {},
   "source": [
    "$acceleration$이랑 $model$ $year$는 mpg와 음의 상관관계  "
   ]
  },
  {
   "cell_type": "markdown",
   "metadata": {},
   "source": [
    "### 1.3 Linear model in matrix form"
   ]
  },
  {
   "cell_type": "markdown",
   "metadata": {},
   "source": [
    "Multiple linear regression 에서 입력 변수가 $d$개라고 하면 모델은 다음과 같음. $\\hat{y}$는 예측 값. \n",
    "\n",
    "$$\\hat{y} = w_0 + w_1x_1 + w_2x_2 + ... + w_dx_d$$\n",
    "편의를 위해 $x_0=1$ 를 추가해서 위 식을 두 벡터의 내적. 즉, 행렬 형태로 나타낼 수 있음\n",
    "\n",
    "$$\\hat{y} = \\sum_{i=0}^d w_ix_i = \\mathbf{x}^\\top \\mathbf{w}$$\n",
    "$\\mathbf{x} = (x_0, x_1, ... , x_d)$는 입력 변수들로 이루어진 벡터  \n",
    "$\\mathbf{w} = (w_0, w_1, ... , w_d)$는 계수들로 이루어진 벡터\n",
    "\n"
   ]
  },
  {
   "cell_type": "markdown",
   "metadata": {},
   "source": [
    "이제 우리는 392개의 데이터를 가지고 있습니다. 이를 $N$개라고 생각하고 식을 나열하기\n",
    "$$\\hat{y}^{(1)} = w_0x_0^{(1)} + w_1x_1^{(1)} + w_2x_2^{(1)} + ... + w_dx_d^{(1)}$$\n",
    "$$\\hat{y}^{(2)} = w_0x_0^{(2)} + w_1x_1^{(2)} + w_2x_2^{(2)} + ... + w_dx_d^{(2)}$$\n",
    "$$\\vdots$$\n",
    "$$\\hat{y}^{(N)} = w_0x_0^{(N)} + w_1x_1^{(N)} + w_2x_2^{(N)} + ... + w_dx_d^{(N)}$$\n"
   ]
  },
  {
   "cell_type": "markdown",
   "metadata": {},
   "source": [
    "<center>위의 식을 한번에 행렬의 형태로 표현하기</center>\n",
    "\n",
    "$$\\hat{\\mathbf{y}} = \\begin{bmatrix}\n",
    "\\hat{y}^{(1)}  \\\\\n",
    "\\hat{y}^{(2)}\\\\\n",
    "\\vdots  \\\\\n",
    "\\hat{y}^{(N)}\n",
    "\\end{bmatrix} =\n",
    "\\begin{bmatrix}\n",
    "x_0^{(1)} &  x_1^{(1)} & \\cdots & x_d^{(1)} \\\\\n",
    "x_0^{(2)} &  x_1^{(2)} & \\cdots & x_d^{(2)} \\\\\n",
    "\\vdots & \\vdots & \\ddots & \\vdots \\\\\n",
    "x_0^{(N)} &  x_1^{(N)} & \\cdots & x_d^{(N)}\n",
    "\\end{bmatrix} \\begin{bmatrix}\n",
    "w_0  \\\\\n",
    "w_1\\\\\n",
    "\\vdots  \\\\\n",
    "w_d \n",
    "\\end{bmatrix} \n",
    "= \\mathbf{X}\\mathbf{w}$$"
   ]
  },
  {
   "cell_type": "markdown",
   "metadata": {},
   "source": [
    "여기서 $\\mathbf{x}$ 는 입력 변수들을 행렬의 형태로 나타낸 것입니다. 그리고 맨 앞에 $x_0 = 1$을 추가했었기 때문에 $\\mathbf{X}$의 맨 왼쪽 행렬은 1로 이루어져 있습니다. \n",
    "\n",
    "그리고 $\\hat{\\mathbf{y}}$는 예측한 변수들을 모아놓은 벡터이고, $\\mathbf{y}$는 실제 연비들을 모아놓은 벡터입니다. "
   ]
  },
  {
   "cell_type": "code",
   "execution_count": 28,
   "metadata": {},
   "outputs": [],
   "source": [
    "from autograd import numpy # auto gradient? 자동 미분\n",
    "from autograd import grad"
   ]
  },
  {
   "cell_type": "code",
   "execution_count": 38,
   "metadata": {},
   "outputs": [
    {
     "name": "stdout",
     "output_type": "stream",
     "text": [
      "X.shape = (392, 7), y.shape = (392,)\n"
     ]
    }
   ],
   "source": [
    "# 행렬 만들어주기\n",
    "X = mpg_data[x_cols].values   \n",
    "X = numpy.hstack((numpy.ones((X.shape[0], 1)), X))  # puts 1s to the left of input matrix\n",
    "# vstack 배열을 세로로 결합\n",
    "# hstack 배열을 가로로 결합\n",
    "y = mpg_data[y_col].values   # type(y) => numpy.ndarray\n",
    "\n",
    "# X랑 y가 잘 만들어 졌는지 모양으로 확인하기\n",
    "print(\"X.shape = {}, y.shape = {}\".format(X.shape, y.shape))"
   ]
  },
  {
   "cell_type": "code",
   "execution_count": 78,
   "metadata": {},
   "outputs": [
    {
     "data": {
      "text/plain": [
       "numpy.ndarray"
      ]
     },
     "execution_count": 78,
     "metadata": {},
     "output_type": "execute_result"
    }
   ],
   "source": [
    "type(X)\n"
   ]
  },
  {
   "cell_type": "markdown",
   "metadata": {},
   "source": [
    "Mean squared error로 cost function 정의하기\n",
    "$$L(\\mathbf{y}, \\hat{\\mathbf{y}}) = \\frac{1}{N} \\sum_{i=1}^N (y^{(i)} - \\hat{y}^{(i)})^2$$\n",
    "\n"
   ]
  },
  {
   "cell_type": "code",
   "execution_count": 79,
   "metadata": {},
   "outputs": [],
   "source": [
    "def linear_regression(w, X):\n",
    "    '''\n",
    "    The linear regression model in matrix form.\n",
    "    Arguments:\n",
    "      w     : 1D array of weights for the linear model\n",
    "      X     : 2D array of input values\n",
    "    Returns:\n",
    "      1D array of predicted values\n",
    "    '''\n",
    "    return numpy.dot(X, w) # numpy array를 곱할때 사용 그냥 두 행렬을 곱한다고 보면 된다\n",
    "\n",
    "def cost_function(w, model, X, y):\n",
    "    '''\n",
    "    The mean squared error loss function.\n",
    "    Arguments:\n",
    "      w     : 1D array of weights for the linear model\n",
    "      model : function for the linear regression model\n",
    "      X     : 2D array of input values\n",
    "      y     : 1D array of predicted values\n",
    "    Returns:\n",
    "      float, mean squared error\n",
    "    '''\n",
    "    y_pred = model(w, X) # prediction\n",
    "    return numpy.mean( numpy.sum((y-y_pred)**2) ) # 연산이 너무 많이 드니까 일단 평균값 넣어줘서 시작하는 그거"
   ]
  },
  {
   "cell_type": "markdown",
   "metadata": {},
   "source": [
    "### 1.4 Find w using Gradient descent"
   ]
  },
  {
   "cell_type": "markdown",
   "metadata": {},
   "source": [
    "Gradient descent를 사용해서 cost function을 최소화 해주는 계수 찾기  \n",
    "autograd.grad() 함수로 기울기를 구할 것"
   ]
  },
  {
   "cell_type": "code",
   "execution_count": 52,
   "metadata": {},
   "outputs": [],
   "source": [
    "gradient = grad(cost_function) \n",
    "# 함수 만들어 주기\n",
    "# gradient란 변수 안에 cost function으로 나오는 값의 grad연산 값을 넣어줄거란 뜻"
   ]
  },
  {
   "cell_type": "markdown",
   "metadata": {},
   "source": [
    "Random number를 넣어서 위 함수가 기울기를 잘 계산해 주는지 확인"
   ]
  },
  {
   "cell_type": "code",
   "execution_count": 61,
   "metadata": {},
   "outputs": [
    {
     "data": {
      "text/plain": [
       "array([[1.000e+00, 8.000e+00, 3.070e+02, ..., 3.504e+03, 1.200e+01,\n",
       "        7.000e+01],\n",
       "       [1.000e+00, 8.000e+00, 3.500e+02, ..., 3.693e+03, 1.150e+01,\n",
       "        7.000e+01],\n",
       "       [1.000e+00, 8.000e+00, 3.180e+02, ..., 3.436e+03, 1.100e+01,\n",
       "        7.000e+01],\n",
       "       ...,\n",
       "       [1.000e+00, 4.000e+00, 1.350e+02, ..., 2.295e+03, 1.160e+01,\n",
       "        8.200e+01],\n",
       "       [1.000e+00, 4.000e+00, 1.200e+02, ..., 2.625e+03, 1.860e+01,\n",
       "        8.200e+01],\n",
       "       [1.000e+00, 4.000e+00, 1.190e+02, ..., 2.720e+03, 1.940e+01,\n",
       "        8.200e+01]])"
      ]
     },
     "execution_count": 61,
     "metadata": {},
     "output_type": "execute_result"
    }
   ],
   "source": [
    "X"
   ]
  },
  {
   "cell_type": "code",
   "execution_count": 63,
   "metadata": {},
   "outputs": [
    {
     "data": {
      "text/plain": [
       "array([0.9264167 , 0.83774864, 0.36475659, 0.91431922, 0.76588609,\n",
       "       0.64339141, 0.88169254])"
      ]
     },
     "execution_count": 63,
     "metadata": {},
     "output_type": "execute_result"
    }
   ],
   "source": [
    "numpy.random.rand(X.shape[1])"
   ]
  },
  {
   "cell_type": "code",
   "execution_count": 71,
   "metadata": {},
   "outputs": [
    {
     "data": {
      "text/plain": [
       "int"
      ]
     },
     "execution_count": 71,
     "metadata": {},
     "output_type": "execute_result"
    }
   ],
   "source": [
    "type(X.shape[0])\n",
    "\n",
    "# shape 뒤에 숫자는 0과 1만 들어감\n",
    "# 행렬.shape[0] => row 갯수 int로 반출\n",
    "# 행렬.shape[1] => columns 갯수 int로 반출"
   ]
  },
  {
   "cell_type": "code",
   "execution_count": 48,
   "metadata": {},
   "outputs": [
    {
     "data": {
      "text/plain": [
       "array([1.89169515e+06, 1.11938691e+07, 4.21559837e+08, 2.15978292e+08,\n",
       "       6.09552302e+09, 2.87496248e+07, 1.43094741e+08])"
      ]
     },
     "execution_count": 48,
     "metadata": {},
     "output_type": "execute_result"
    }
   ],
   "source": [
    "gradient(numpy.random.rand(X.shape[1], linear_regression, X, y)\n",
    "\n",
    "# 아까 cost function 함수의 입력값 4개임\n",
    "'''\n",
    "      w     : 1D array of weights for the linear model\n",
    "      model : function for the linear regression model\n",
    "      X     : 2D array of input values\n",
    "      y     : 1D array of predicted values\n",
    "'''\n",
    "\n",
    "'''\n",
    "grad : 알파 (step size) 뒤에 오는 그거 기울기!! 계산해주는 함수\n",
    "'''"
   ]
  },
  {
   "cell_type": "code",
   "execution_count": 58,
   "metadata": {},
   "outputs": [
    {
     "data": {
      "text/plain": [
       "array([1.000e+00, 8.000e+00, 3.500e+02, 1.650e+02, 3.693e+03, 1.150e+01,\n",
       "       7.000e+01])"
      ]
     },
     "execution_count": 58,
     "metadata": {},
     "output_type": "execute_result"
    }
   ],
   "source": [
    "X[1]"
   ]
  },
  {
   "cell_type": "markdown",
   "metadata": {},
   "source": [
    "이제 Gradient Descent 진행하기"
   ]
  },
  {
   "cell_type": "code",
   "execution_count": 80,
   "metadata": {},
   "outputs": [
    {
     "data": {
      "text/plain": [
       "'\\nnumpy.zeros 쓰임새\\n>>> A2 = np.zeros((2,3))\\n>>> A2\\narray([[0., 0., 0.],\\n       [0., 0., 0.]])\\n'"
      ]
     },
     "execution_count": 80,
     "metadata": {},
     "output_type": "execute_result"
    }
   ],
   "source": [
    "w = numpy.zeros(X.shape[1])\n",
    "w\n",
    "\n",
    "'''\n",
    "numpy.zeros 쓰임새\n",
    ">>> A2 = np.zeros((2,3))\n",
    ">>> A2\n",
    "array([[0., 0., 0.],\n",
    "       [0., 0., 0.]])\n",
    "'''"
   ]
  },
  {
   "cell_type": "code",
   "execution_count": 117,
   "metadata": {},
   "outputs": [
    {
     "name": "stdout",
     "output_type": "stream",
     "text": [
      "iteration 0, loss = 9.668521029386562e+18\n",
      "iteration 5, loss = 5.933187473385042e+87\n",
      "iteration 10, loss = 3.64096169342092e+156\n",
      "iteration 15, loss = 2.2343136994110975e+225\n",
      "iteration 20, loss = 1.3711096484197438e+294\n",
      "iteration 25, loss = inf\n"
     ]
    },
    {
     "name": "stderr",
     "output_type": "stream",
     "text": [
      "/tmp/ipykernel_4801/2275801136.py:24: RuntimeWarning: overflow encountered in square\n",
      "  return numpy.mean( numpy.sum((y-y_pred)**2) ) # 연산이 너무 많이 드니까 일단 평균값 넣어줘서 시작하는 그거\n",
      "/home/imgsuh/anaconda3/envs/goorm/lib/python3.9/site-packages/autograd/tracer.py:48: RuntimeWarning: overflow encountered in power\n",
      "  return f_raw(*args, **kwargs)\n"
     ]
    }
   ],
   "source": [
    "max_iter = 30\n",
    "alpha = 0.001\n",
    "\n",
    "for i in range(max_iter):\n",
    "    descent = gradient(w, linear_regression, X, y) # 각각의 기울기를 구하는건가?\n",
    "    w = w - descent * alpha\n",
    "    loss = cost_function(w, linear_regression, X, y)\n",
    "    if i%5 == 0:\n",
    "        print(\"iteration {}, loss = {}\".format(i, loss))\n",
    "        # format(a, b) 붙으면 앞의 빈 {}에 a, b를 순서대로 넣겠다는 뜻"
   ]
  },
  {
   "cell_type": "markdown",
   "metadata": {},
   "source": [
    "iteration 25일 때 loss가 infinite가 됨 => 오류  \n",
    "이유 : 입력변수 중 특정 값들이 너무 커서 일어난 일  \n",
    "해결 : 입력변수 살펴보고 scaling해주기"
   ]
  },
  {
   "cell_type": "markdown",
   "metadata": {},
   "source": [
    "### 1.5 Feature scaling"
   ]
  },
  {
   "cell_type": "markdown",
   "metadata": {},
   "source": [
    "입력 데이터 MAX MIN 살펴보기"
   ]
  },
  {
   "cell_type": "code",
   "execution_count": 122,
   "metadata": {},
   "outputs": [
    {
     "data": {
      "text/html": [
       "<div>\n",
       "<style scoped>\n",
       "    .dataframe tbody tr th:only-of-type {\n",
       "        vertical-align: middle;\n",
       "    }\n",
       "\n",
       "    .dataframe tbody tr th {\n",
       "        vertical-align: top;\n",
       "    }\n",
       "\n",
       "    .dataframe thead th {\n",
       "        text-align: right;\n",
       "    }\n",
       "</style>\n",
       "<table border=\"1\" class=\"dataframe\">\n",
       "  <thead>\n",
       "    <tr style=\"text-align: right;\">\n",
       "      <th></th>\n",
       "      <th>cylinders</th>\n",
       "      <th>displacement</th>\n",
       "      <th>horsepower</th>\n",
       "      <th>weight</th>\n",
       "      <th>acceleration</th>\n",
       "      <th>model year</th>\n",
       "    </tr>\n",
       "  </thead>\n",
       "  <tbody>\n",
       "    <tr>\n",
       "      <th>max</th>\n",
       "      <td>8.0</td>\n",
       "      <td>455.0</td>\n",
       "      <td>230.0</td>\n",
       "      <td>5140.0</td>\n",
       "      <td>24.8</td>\n",
       "      <td>82.0</td>\n",
       "    </tr>\n",
       "    <tr>\n",
       "      <th>min</th>\n",
       "      <td>3.0</td>\n",
       "      <td>68.0</td>\n",
       "      <td>46.0</td>\n",
       "      <td>1613.0</td>\n",
       "      <td>8.0</td>\n",
       "      <td>70.0</td>\n",
       "    </tr>\n",
       "  </tbody>\n",
       "</table>\n",
       "</div>"
      ],
      "text/plain": [
       "     cylinders  displacement  horsepower  weight  acceleration  model year\n",
       "max        8.0         455.0       230.0  5140.0          24.8        82.0\n",
       "min        3.0          68.0        46.0  1613.0           8.0        70.0"
      ]
     },
     "execution_count": 122,
     "metadata": {},
     "output_type": "execute_result"
    }
   ],
   "source": [
    "mpg_data[x_cols].describe().loc[['max', 'min']] # df 조회하고 가져오기"
   ]
  },
  {
   "cell_type": "markdown",
   "metadata": {},
   "source": [
    "weight 값이 다른 값들에 비해 큼  \n",
    "min-max scaling으로 모든 데이터 범위를 1~0으로 normalize해주기 (scikit-learn 씀)\n",
    "\n",
    "$$x' = \\frac{x - \\min(x)}{\\max(x)-\\min(x)}$$\n",
    "\n"
   ]
  },
  {
   "cell_type": "code",
   "execution_count": 123,
   "metadata": {},
   "outputs": [],
   "source": [
    "from sklearn.preprocessing import MinMaxScaler"
   ]
  },
  {
   "cell_type": "code",
   "execution_count": 126,
   "metadata": {},
   "outputs": [],
   "source": [
    "min_max_scaler = MinMaxScaler()\n",
    "X_scaled = min_max_scaler.fit_transform(mpg_data[x_cols])\n",
    "X_scaled = numpy.hstack((numpy.ones((X_scaled.shape[0], 1)), X_scaled))\n",
    "\n",
    "\n",
    "# numpy.ones(shape, dtype, order) 여기선 shape만 입력되어있음\n",
    "# shape = (392,1) = (X_scaled.shape[0], 1)인 nparray를 만들어서 옆에 붙이기 # 상수항 + 1"
   ]
  },
  {
   "cell_type": "code",
   "execution_count": 129,
   "metadata": {},
   "outputs": [
    {
     "data": {
      "text/html": [
       "<div>\n",
       "<style scoped>\n",
       "    .dataframe tbody tr th:only-of-type {\n",
       "        vertical-align: middle;\n",
       "    }\n",
       "\n",
       "    .dataframe tbody tr th {\n",
       "        vertical-align: top;\n",
       "    }\n",
       "\n",
       "    .dataframe thead th {\n",
       "        text-align: right;\n",
       "    }\n",
       "</style>\n",
       "<table border=\"1\" class=\"dataframe\">\n",
       "  <thead>\n",
       "    <tr style=\"text-align: right;\">\n",
       "      <th></th>\n",
       "      <th>0</th>\n",
       "      <th>1</th>\n",
       "      <th>2</th>\n",
       "      <th>3</th>\n",
       "      <th>4</th>\n",
       "      <th>5</th>\n",
       "      <th>6</th>\n",
       "    </tr>\n",
       "  </thead>\n",
       "  <tbody>\n",
       "    <tr>\n",
       "      <th>max</th>\n",
       "      <td>1.0</td>\n",
       "      <td>1.0</td>\n",
       "      <td>1.0</td>\n",
       "      <td>1.0</td>\n",
       "      <td>1.0</td>\n",
       "      <td>1.0</td>\n",
       "      <td>1.0</td>\n",
       "    </tr>\n",
       "    <tr>\n",
       "      <th>min</th>\n",
       "      <td>1.0</td>\n",
       "      <td>0.0</td>\n",
       "      <td>0.0</td>\n",
       "      <td>0.0</td>\n",
       "      <td>0.0</td>\n",
       "      <td>0.0</td>\n",
       "      <td>0.0</td>\n",
       "    </tr>\n",
       "  </tbody>\n",
       "</table>\n",
       "</div>"
      ],
      "text/plain": [
       "       0    1    2    3    4    5    6\n",
       "max  1.0  1.0  1.0  1.0  1.0  1.0  1.0\n",
       "min  1.0  0.0  0.0  0.0  0.0  0.0  0.0"
      ]
     },
     "execution_count": 129,
     "metadata": {},
     "output_type": "execute_result"
    }
   ],
   "source": [
    "pandas.DataFrame(X_scaled).describe().loc[['max', 'min']]\n",
    "# pandas.DataFrame => nparray를 pandas의 df 형식으로 바꿔주기"
   ]
  },
  {
   "cell_type": "code",
   "execution_count": 130,
   "metadata": {},
   "outputs": [
    {
     "data": {
      "text/plain": [
       "7"
      ]
     },
     "execution_count": 130,
     "metadata": {},
     "output_type": "execute_result"
    }
   ],
   "source": [
    "X.shape[1]"
   ]
  },
  {
   "cell_type": "code",
   "execution_count": 131,
   "metadata": {},
   "outputs": [
    {
     "name": "stdout",
     "output_type": "stream",
     "text": [
      "iteration 0, loss = 116081.11124253299\n",
      "iteration 100, loss = 5035.737208606848\n",
      "iteration 200, loss = 4694.653830594688\n",
      "iteration 300, loss = 4613.631473760373\n",
      "iteration 400, loss = 4583.327630964673\n",
      "iteration 500, loss = 4568.155268087916\n",
      "iteration 600, loss = 4559.268593877387\n",
      "iteration 700, loss = 4553.692765631068\n",
      "iteration 800, loss = 4550.099857254159\n",
      "iteration 900, loss = 4547.761957132872\n"
     ]
    }
   ],
   "source": [
    "max_iter = 1000\n",
    "alpha = 0.001\n",
    "w = numpy.zeros(X.shape[1])\n",
    "\n",
    "for i in range(max_iter):\n",
    "    descent = gradient(w, linear_regression, X_scaled, y)\n",
    "    w = w - descent * alpha\n",
    "    loss = cost_function(w, linear_regression, X_scaled, y)\n",
    "    if i%100 == 0:\n",
    "        print(\"iteration {}, loss = {}\".format(i, loss))"
   ]
  },
  {
   "cell_type": "markdown",
   "metadata": {},
   "source": [
    "w가 학습완료됨  \n",
    "예측값은 $\\mathbf{X}$와w의 곱으록 나타낼 수 있음"
   ]
  },
  {
   "cell_type": "code",
   "execution_count": 132,
   "metadata": {},
   "outputs": [
    {
     "data": {
      "text/plain": [
       "array([ 27.56342896,  -1.24000064,   1.70706502,  -0.2853682 ,\n",
       "       -23.08358717,   1.06664226,   8.99271696])"
      ]
     },
     "execution_count": 132,
     "metadata": {},
     "output_type": "execute_result"
    }
   ],
   "source": [
    "w"
   ]
  },
  {
   "cell_type": "code",
   "execution_count": 133,
   "metadata": {},
   "outputs": [],
   "source": [
    "y_hat = X_scaled @ w"
   ]
  },
  {
   "cell_type": "markdown",
   "metadata": {},
   "source": [
    "### 1.6 How accurate is the model?\n",
    "다음 두가지 방법을 써서 모델 정확도를 측정 (sklearn 사용)"
   ]
  },
  {
   "cell_type": "markdown",
   "metadata": {},
   "source": [
    "Mean absolute error (MAE)\n",
    "$$\\text{MAE}(\\mathbf{y}, \\hat{\\mathbf{y}}) = \\frac{1}{N} \\sum_{i=1}^N \\left\\vert y^{(i)} - \\hat{y}^{(i)}\\right\\vert$$\n",
    "\n",
    "\n",
    "Root mean squared error (RMSE)\n",
    "$$\\text{RMSE}(\\mathbf{y}, \\hat{\\mathbf{y}}) =\\sqrt{ \\frac{1}{N} \\sum_{i=1}^N (y^{(i)} - \\hat{y}^{(i)})^2}$$"
   ]
  },
  {
   "cell_type": "code",
   "execution_count": 136,
   "metadata": {},
   "outputs": [
    {
     "name": "stdout",
     "output_type": "stream",
     "text": [
      "mae  = 2.613991601156044\n",
      "rmse = 3.4055205674118403\n"
     ]
    }
   ],
   "source": [
    "from sklearn.metrics import mean_absolute_error, mean_squared_error\n",
    "\n",
    "mae = mean_absolute_error(y, y_hat)\n",
    "rmse = mean_squared_error(y, y_hat, squared=False)\n",
    "print(\"mae  = {}\".format(mae))\n",
    "print(\"rmse = {}\".format(rmse))"
   ]
  },
  {
   "cell_type": "markdown",
   "metadata": {},
   "source": [
    "### 2. Gradient descent land global temperature anomaly data"
   ]
  },
  {
   "cell_type": "code",
   "execution_count": null,
   "metadata": {},
   "outputs": [],
   "source": [
    "'''\n",
    "이미 다운받아 놓아서 생략 가능\n",
    "from urllib.request import urlretrieve\n",
    "URL = 'http://go.gwu.edu/engcomp1data5?accessType=DOWNLOAD'\n",
    "urlretrieve(URL, 'land_global_temperature_anomaly-1880-2016.csv')\n",
    "'''"
   ]
  },
  {
   "cell_type": "code",
   "execution_count": 137,
   "metadata": {},
   "outputs": [],
   "source": [
    "import numpy\n",
    "import sympy\n"
   ]
  },
  {
   "cell_type": "code",
   "execution_count": 142,
   "metadata": {},
   "outputs": [],
   "source": [
    "year, temp_anomaly = numpy.loadtxt('land_global_temperature_anomaly-1880-2016.csv', delimiter=',', skiprows=5, unpack=True)"
   ]
  },
  {
   "cell_type": "markdown",
   "metadata": {},
   "source": [
    "어제는 직접 계산해서 linear regression을 진행  \n",
    "이번엔 gradient descent 방법으로 해보겠습니다. \n",
    "\n",
    "직선 가정하기\n",
    "$$f(x_i) = wx + b$$\n",
    "\n",
    "cost function\n",
    "$$\\frac{1}{n} \\sum_{i=1}^n (y_i - f(x_i))^2 = \\frac{1}{n} \\sum_{i=1}^n (y_i - (wx_i + b))^2$$\n",
    "\n"
   ]
  },
  {
   "cell_type": "code",
   "execution_count": 143,
   "metadata": {},
   "outputs": [
    {
     "data": {
      "text/latex": [
       "$\\displaystyle \\left(b + w x - y\\right)^{2}$"
      ],
      "text/plain": [
       "(b + w*x - y)**2"
      ]
     },
     "execution_count": 143,
     "metadata": {},
     "output_type": "execute_result"
    }
   ],
   "source": [
    "w, b, x, y = sympy.symbols('w b x y')\n",
    "\n",
    "cost_function = (w*x + b - y)**2\n",
    "cost_function     "
   ]
  },
  {
   "cell_type": "code",
   "execution_count": 144,
   "metadata": {},
   "outputs": [],
   "source": [
    "grad_b = sympy.lambdify([w,b,x,y], cost_function.diff(b), 'numpy')\n",
    "grad_w = sympy.lambdify([w,b,x,y], cost_function.diff(w), 'numpy')"
   ]
  },
  {
   "cell_type": "code",
   "execution_count": 145,
   "metadata": {},
   "outputs": [
    {
     "name": "stdout",
     "output_type": "stream",
     "text": [
      "nan\n",
      "nan\n"
     ]
    },
    {
     "name": "stderr",
     "output_type": "stream",
     "text": [
      "<lambdifygenerated-2>:2: RuntimeWarning: overflow encountered in multiply\n",
      "  return 2*x*(b + w*x - y)\n",
      "/tmp/ipykernel_4801/3139723354.py:7: RuntimeWarning: invalid value encountered in double_scalars\n",
      "  w = w - descent_w*0.001 # with 0.01 the step size\n"
     ]
    }
   ],
   "source": [
    "w = 0\n",
    "b = 0\n",
    "\n",
    "for i in range(1000):\n",
    "    descent_b = numpy.sum(grad_b(w,b,year,temp_anomaly))/len(year)\n",
    "    descent_w = numpy.sum(grad_w(w,b,year,temp_anomaly))/len(year)\n",
    "    w = w - descent_w*0.001 # with 0.01 the step size\n",
    "    b = b - descent_b*0.001 \n",
    "\n",
    "print(w)\n",
    "print(b)\n",
    "\n",
    "# 예측해야할 값이랑 입력변수 값 범위가 많이 차이나서 오류 남"
   ]
  },
  {
   "cell_type": "markdown",
   "metadata": {},
   "source": [
    " Z-Score normalization을 사용\n",
    "\n",
    "$$x' = \\frac{x - \\text{mean}(x)}{\\text{std}(x)}$$"
   ]
  },
  {
   "cell_type": "code",
   "execution_count": 146,
   "metadata": {},
   "outputs": [],
   "source": [
    "year_scaled = (year - year.mean())/year.std()\n",
    "temp_anomaly_scaled = (temp_anomaly - temp_anomaly.mean()) / temp_anomaly.std()"
   ]
  },
  {
   "cell_type": "code",
   "execution_count": 148,
   "metadata": {},
   "outputs": [
    {
     "name": "stdout",
     "output_type": "stream",
     "text": [
      "0.756766964479979\n",
      "5.551763428541569e-17\n"
     ]
    }
   ],
   "source": [
    "w = 0\n",
    "b = 0\n",
    "\n",
    "for i in range(1000):\n",
    "    descent_b = numpy.sum(grad_b(w,b,year_scaled,temp_anomaly_scaled))/len(year)\n",
    "    descent_w = numpy.sum(grad_w(w,b,year_scaled,temp_anomaly_scaled))/len(year)\n",
    "    w = w - descent_w*0.001 # with 0.01 the step size\n",
    "    b = b - descent_b*0.001 \n",
    "\n",
    "print(w)\n",
    "print(b)"
   ]
  },
  {
   "cell_type": "code",
   "execution_count": 151,
   "metadata": {},
   "outputs": [],
   "source": [
    "reg = b + w * year_scaled\n"
   ]
  },
  {
   "cell_type": "code",
   "execution_count": 152,
   "metadata": {},
   "outputs": [
    {
     "data": {
      "image/png": "[encoded data removed]",
      "text/plain": [
       "<Figure size 720x360 with 1 Axes>"
      ]
     },
     "metadata": {
      "needs_background": "light"
     },
     "output_type": "display_data"
    }
   ],
   "source": [
    "from matplotlib import pyplot\n",
    "%matplotlib inline\n",
    "\n",
    "pyplot.figure(figsize=(10, 5))\n",
    "\n",
    "pyplot.plot(year_scaled, temp_anomaly_scaled, color='#2929a3', linestyle='-', linewidth=1, alpha=0.5) \n",
    "pyplot.plot(year_scaled, reg, 'k--', linewidth=2, label='Linear regression')\n",
    "pyplot.xlabel('Year')\n",
    "pyplot.ylabel('Land temperature anomaly [°C]')\n",
    "pyplot.legend(loc='best', fontsize=15)\n",
    "pyplot.grid();reg = b + w * year_scaled"
   ]
  },
  {
   "cell_type": "code",
   "execution_count": null,
   "metadata": {},
   "outputs": [],
   "source": []
  }
 ],
 "metadata": {
  "interpreter": {
   "hash": "a162ea9748de28814a5061955bf918d9c17d26f213772bba2e1621cc7515e2d6"
  },
  "kernelspec": {
   "display_name": "Python 3.9.7 64-bit ('goorm': conda)",
   "language": "python",
   "name": "python3"
  },
  "language_info": {
   "codemirror_mode": {
    "name": "ipython",
    "version": 3
   },
   "file_extension": ".py",
   "mimetype": "text/x-python",
   "name": "python",
   "nbconvert_exporter": "python",
   "pygments_lexer": "ipython3",
   "version": "3.9.7"
  },
  "orig_nbformat": 4
 },
 "nbformat": 4,
 "nbformat_minor": 2
}
